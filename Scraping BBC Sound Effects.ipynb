{
 "cells": [
  {
   "cell_type": "markdown",
   "metadata": {},
   "source": [
    "# Scraping BBC Sound Effects\n",
    "\n",
    "<br>\n",
    "\n",
    "### Imports"
   ]
  },
  {
   "cell_type": "code",
   "execution_count": 1,
   "metadata": {},
   "outputs": [],
   "source": [
    "import pandas as pd\n",
    "import numpy as np\n",
    "\n",
    "import matplotlib.pyplot as plt\n",
    "import seaborn as sns\n",
    "\n",
    "from io import StringIO\n",
    "import requests"
   ]
  },
  {
   "cell_type": "markdown",
   "metadata": {},
   "source": [
    "<br>\n",
    "\n",
    "### Retrieving Metadata\n",
    "\n",
    "We start by making a request to the metadata csv file location"
   ]
  },
  {
   "cell_type": "code",
   "execution_count": 2,
   "metadata": {},
   "outputs": [
    {
     "data": {
      "text/plain": [
       "<Response [200]>"
      ]
     },
     "execution_count": 2,
     "metadata": {},
     "output_type": "execute_result"
    }
   ],
   "source": [
    "url = 'http://bbcsfx.acropolis.org.uk/assets/BBCSoundEffects.csv'\n",
    "r = requests.get(url)\n",
    "\n",
    "r"
   ]
  },
  {
   "cell_type": "markdown",
   "metadata": {},
   "source": [
    "<br>\n",
    "\n",
    "We can use StringIO to convert the byte response into a format that can be understoon by pandas"
   ]
  },
  {
   "cell_type": "code",
   "execution_count": 3,
   "metadata": {},
   "outputs": [
    {
     "data": {
      "text/html": [
       "<div>\n",
       "<style scoped>\n",
       "    .dataframe tbody tr th:only-of-type {\n",
       "        vertical-align: middle;\n",
       "    }\n",
       "\n",
       "    .dataframe tbody tr th {\n",
       "        vertical-align: top;\n",
       "    }\n",
       "\n",
       "    .dataframe thead th {\n",
       "        text-align: right;\n",
       "    }\n",
       "</style>\n",
       "<table border=\"1\" class=\"dataframe\">\n",
       "  <thead>\n",
       "    <tr style=\"text-align: right;\">\n",
       "      <th></th>\n",
       "      <th>location</th>\n",
       "      <th>description</th>\n",
       "      <th>secs</th>\n",
       "      <th>category</th>\n",
       "      <th>CDNumber</th>\n",
       "      <th>CDName</th>\n",
       "      <th>tracknum</th>\n",
       "    </tr>\n",
       "  </thead>\n",
       "  <tbody>\n",
       "    <tr>\n",
       "      <th>0</th>\n",
       "      <td>07076051.wav</td>\n",
       "      <td>Two-stroke petrol engine driving small elevato...</td>\n",
       "      <td>194</td>\n",
       "      <td>Engines: Petrol</td>\n",
       "      <td>EC117D</td>\n",
       "      <td>Diesel &amp; Petrol Engines</td>\n",
       "      <td>4</td>\n",
       "    </tr>\n",
       "    <tr>\n",
       "      <th>1</th>\n",
       "      <td>07076050.wav</td>\n",
       "      <td>Single-cylinder Petter engine, start, run stop...</td>\n",
       "      <td>194</td>\n",
       "      <td>Engines: Diesel</td>\n",
       "      <td>EC117D</td>\n",
       "      <td>Diesel &amp; Petrol Engines</td>\n",
       "      <td>1</td>\n",
       "    </tr>\n",
       "    <tr>\n",
       "      <th>2</th>\n",
       "      <td>07076049.wav</td>\n",
       "      <td>Start, constant run with engine driving small ...</td>\n",
       "      <td>200</td>\n",
       "      <td>Engines: Petrol</td>\n",
       "      <td>EC117D</td>\n",
       "      <td>Diesel &amp; Petrol Engines</td>\n",
       "      <td>3</td>\n",
       "    </tr>\n",
       "    <tr>\n",
       "      <th>3</th>\n",
       "      <td>07076048.wav</td>\n",
       "      <td>Two false starts, constant run, stop. (2 1/4 h...</td>\n",
       "      <td>195</td>\n",
       "      <td>Engines: Petrol</td>\n",
       "      <td>EC117D</td>\n",
       "      <td>Diesel &amp; Petrol Engines</td>\n",
       "      <td>2</td>\n",
       "    </tr>\n",
       "    <tr>\n",
       "      <th>4</th>\n",
       "      <td>07076047.wav</td>\n",
       "      <td>An 8 mm projector running at 24 f.p.s.</td>\n",
       "      <td>117</td>\n",
       "      <td>Cine Projectors</td>\n",
       "      <td>EC6C1</td>\n",
       "      <td>Cameras</td>\n",
       "      <td>4</td>\n",
       "    </tr>\n",
       "  </tbody>\n",
       "</table>\n",
       "</div>"
      ],
      "text/plain": [
       "       location                                        description  secs  \\\n",
       "0  07076051.wav  Two-stroke petrol engine driving small elevato...   194   \n",
       "1  07076050.wav  Single-cylinder Petter engine, start, run stop...   194   \n",
       "2  07076049.wav  Start, constant run with engine driving small ...   200   \n",
       "3  07076048.wav  Two false starts, constant run, stop. (2 1/4 h...   195   \n",
       "4  07076047.wav             An 8 mm projector running at 24 f.p.s.   117   \n",
       "\n",
       "          category CDNumber                   CDName  tracknum  \n",
       "0  Engines: Petrol   EC117D  Diesel & Petrol Engines         4  \n",
       "1  Engines: Diesel   EC117D  Diesel & Petrol Engines         1  \n",
       "2  Engines: Petrol   EC117D  Diesel & Petrol Engines         3  \n",
       "3  Engines: Petrol   EC117D  Diesel & Petrol Engines         2  \n",
       "4  Cine Projectors    EC6C1                  Cameras         4  "
      ]
     },
     "execution_count": 3,
     "metadata": {},
     "output_type": "execute_result"
    }
   ],
   "source": [
    "df = pd.read_csv(StringIO(r.text))\n",
    "\n",
    "df.head()"
   ]
  },
  {
   "cell_type": "markdown",
   "metadata": {},
   "source": [
    "<br>\n",
    "\n",
    "### Downloading the Files\n",
    "\n",
    "We'll use a lambda function to help form the urls for each file"
   ]
  },
  {
   "cell_type": "code",
   "execution_count": 4,
   "metadata": {},
   "outputs": [
    {
     "data": {
      "text/plain": [
       "'http://bbcsfx.acropolis.org.uk/assets/07076051.wav'"
      ]
     },
     "execution_count": 4,
     "metadata": {},
     "output_type": "execute_result"
    }
   ],
   "source": [
    "location_2_url = lambda location: f'http://bbcsfx.acropolis.org.uk/assets/{location}'\n",
    "\n",
    "location = '07076051.wav'\n",
    "location_url = location_2_url(location)\n",
    "\n",
    "location_url"
   ]
  },
  {
   "cell_type": "markdown",
   "metadata": {},
   "source": [
    "<br>\n",
    "\n",
    "Finally we'll cycle through each of the files, downloading and saving the data"
   ]
  },
  {
   "cell_type": "code",
   "execution_count": 6,
   "metadata": {},
   "outputs": [],
   "source": [
    "df.index.name = 'id'\n",
    "\n",
    "for file_id, file_metadata in df.iterrows():\n",
    "    location = file_metadata['location']\n",
    "    location_url = location_2_url(location)\n",
    "    \n",
    "    r = requests.get(location_url)\n",
    "    \n",
    "    with open(f'data/{location}', 'wb') as f:\n",
    "        f.write(r.content)"
   ]
  }
 ],
 "metadata": {
  "kernelspec": {
   "display_name": "Python 3",
   "language": "python",
   "name": "python3"
  },
  "language_info": {
   "codemirror_mode": {
    "name": "ipython",
    "version": 3
   },
   "file_extension": ".py",
   "mimetype": "text/x-python",
   "name": "python",
   "nbconvert_exporter": "python",
   "pygments_lexer": "ipython3",
   "version": "3.6.8"
  }
 },
 "nbformat": 4,
 "nbformat_minor": 4
}
